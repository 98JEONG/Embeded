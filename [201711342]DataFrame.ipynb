{
 "cells": [
  {
   "cell_type": "code",
   "execution_count": 83,
   "metadata": {},
   "outputs": [
    {
     "name": "stdout",
     "output_type": "stream",
     "text": [
      "              출석         과제        토론       중간시험       기말시험        총점\n",
      "mean    7.804130  18.291522  0.239130  23.560978  14.148370  64.04413\n",
      "median  8.000000  19.370000  0.000000  24.500000  13.650000  67.58500\n",
      "std     0.350573   2.776342  0.652461   7.937138   7.782639  15.20833\n"
     ]
    }
   ],
   "source": [
    "import pandas as pd\n",
    "from pandas import DataFrame,Series\n",
    "\n",
    "file = 'C:\\\\Users\\\\sejeong\\\\Documents\\\\3학년2학기\\\\데이터마이닝\\\\과제\\\\2019 DB ㅅㅓㅇㅈㅓㄱ.xlsx'\n",
    "\n",
    "df = pd.read_excel(file)\n",
    "\n",
    "raw_data=dict()\n",
    "index = [\"mean\",\"median\",\"std\"]\n",
    "\n",
    "for col in df.columns.values:\n",
    "    raw_data[col]=[df[col].mean(),df[col].median(),df[col].std()]\n",
    "\n",
    "data = DataFrame(raw_data,columns = raw_data,index =index)\n",
    "print(data)\n",
    "\n"
   ]
  },
  {
   "cell_type": "code",
   "execution_count": null,
   "metadata": {},
   "outputs": [],
   "source": []
  }
 ],
 "metadata": {
  "kernelspec": {
   "display_name": "Python 3",
   "language": "python",
   "name": "python3"
  },
  "language_info": {
   "codemirror_mode": {
    "name": "ipython",
    "version": 3
   },
   "file_extension": ".py",
   "mimetype": "text/x-python",
   "name": "python",
   "nbconvert_exporter": "python",
   "pygments_lexer": "ipython3",
   "version": "3.7.3"
  }
 },
 "nbformat": 4,
 "nbformat_minor": 2
}
